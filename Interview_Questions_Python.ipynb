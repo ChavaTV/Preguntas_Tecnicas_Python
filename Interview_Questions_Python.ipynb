{
  "nbformat": 4,
  "nbformat_minor": 0,
  "metadata": {
    "colab": {
      "provenance": [],
      "authorship_tag": "ABX9TyNmpiK00jeubAUUBRUN1+yi",
      "include_colab_link": true
    },
    "kernelspec": {
      "name": "python3",
      "display_name": "Python 3"
    },
    "language_info": {
      "name": "python"
    }
  },
  "cells": [
    {
      "cell_type": "markdown",
      "metadata": {
        "id": "view-in-github",
        "colab_type": "text"
      },
      "source": [
        "<a href=\"https://colab.research.google.com/github/ChavaTV/Preguntas_Tecnicas_Python/blob/main/Interview_Questions_Python.ipynb\" target=\"_parent\"><img src=\"https://colab.research.google.com/assets/colab-badge.svg\" alt=\"Open In Colab\"/></a>"
      ]
    },
    {
      "cell_type": "markdown",
      "source": [
        "Practica en Python: Problema para identificar el numero que no se repite en una cadena (lista)"
      ],
      "metadata": {
        "id": "zRvrlbzh-wu7"
      }
    },
    {
      "cell_type": "code",
      "execution_count": 4,
      "metadata": {
        "colab": {
          "base_uri": "https://localhost:8080/"
        },
        "id": "SYqsPb7Aed4K",
        "outputId": "3db26e7a-0a48-4f18-b7fd-110262208217"
      },
      "outputs": [
        {
          "output_type": "stream",
          "name": "stdout",
          "text": [
            "6\n",
            "9\n",
            "3\n"
          ]
        }
      ],
      "source": [
        "a = [0, 0, 1, 2 , 1 ,3, 2]\n",
        "def lonelyinteger(a):\n",
        "    # Write your code here\n",
        "    sum_clean = sum(set(a))\n",
        "    sum_total = sum(a)\n",
        "    print(sum_clean)\n",
        "    print(sum_total)\n",
        "\n",
        "    return (sum_clean*2)-sum_total\n",
        "\n",
        "resultado = lonelyinteger(a)\n",
        "print(resultado)"
      ]
    },
    {
      "cell_type": "markdown",
      "source": [
        "Problema: Obtener la mediana de un arreglo (lista) sin las funciones de numpy"
      ],
      "metadata": {
        "id": "OjarPRpJ-9NC"
      }
    },
    {
      "cell_type": "code",
      "source": [
        "\n",
        "arr = [ 0, 3, 3 , 1 ,3, 2]\n",
        "def findMedian(arr):\n",
        "    # Write your code here\n",
        "    tamano = len(arr)\n",
        "    arr.sort()\n",
        "    print(arr)\n",
        "\n",
        "    if tamano % 2 != 0:\n",
        "        return arr[int(tamano/2 )]\n",
        "    else:\n",
        "      half_1 = tamano // 2\n",
        "      half_2 = tamano // 2 - 1\n",
        "      return (arr[half_1] + arr[half_2])/2\n",
        "\n",
        "resultado = findMedian(arr)\n",
        "print(resultado)"
      ],
      "metadata": {
        "colab": {
          "base_uri": "https://localhost:8080/"
        },
        "id": "1zdZBetqiN6a",
        "outputId": "8db33f59-e174-45b0-f30b-83e8d4527fbc"
      },
      "execution_count": 28,
      "outputs": [
        {
          "output_type": "stream",
          "name": "stdout",
          "text": [
            "[0, 1, 2, 3, 3, 3]\n",
            "2.5\n"
          ]
        }
      ]
    },
    {
      "cell_type": "markdown",
      "source": [],
      "metadata": {
        "id": "LeU9WgcW-tQ1"
      }
    }
  ]
}